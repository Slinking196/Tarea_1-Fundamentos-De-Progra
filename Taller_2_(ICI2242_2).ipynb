{
  "nbformat": 4,
  "nbformat_minor": 0,
  "metadata": {
    "colab": {
      "provenance": [],
      "authorship_tag": "ABX9TyOfYDM841bcfFhn8FELNYPo",
      "include_colab_link": true
    },
    "kernelspec": {
      "name": "python3",
      "display_name": "Python 3"
    },
    "language_info": {
      "name": "python"
    }
  },
  "cells": [
    {
      "cell_type": "markdown",
      "metadata": {
        "id": "view-in-github",
        "colab_type": "text"
      },
      "source": [
        "<a href=\"https://colab.research.google.com/github/Slinking196/Tarea_1-Fundamentos-De-Progra-/blob/main/Taller_2_(ICI2242_2).ipynb\" target=\"_parent\"><img src=\"https://colab.research.google.com/assets/colab-badge.svg\" alt=\"Open In Colab\"/></a>"
      ]
    },
    {
      "cell_type": "code",
      "source": [
        "def toBinaryD(parteDecimal, bits):\n",
        "  binaryD = \"\"\n",
        "  cont = 0\n",
        "\n",
        "  while parteDecimal != 0 and cont < bits:\n",
        "    parteDecimal *= 2;\n",
        "    binaryD += str(int(parteDecimal // 1))\n",
        "    parteDecimal = parteDecimal - parteDecimal // 1\n",
        "    cont += 1\n",
        "\n",
        "  return binaryD"
      ],
      "metadata": {
        "id": "2nsWN9VI46lH"
      },
      "execution_count": 2,
      "outputs": []
    },
    {
      "cell_type": "code",
      "source": [
        "def toBinaryE(parteEntera):\n",
        "  binaryE = \"\"\n",
        "\n",
        "  while parteEntera != 0:\n",
        "    if parteEntera % 2:\n",
        "      binaryE += \"1\"\n",
        "    else:\n",
        "      binaryE += \"0\"\n",
        "    \n",
        "    parteEntera = parteEntera // 2\n",
        "  \n",
        "  if binaryE == \"\":\n",
        "    binaryE += \"0\"\n",
        "\n",
        "  binaryE = str(binaryE[len(binaryE):: -1])\n",
        "  return binaryE"
      ],
      "metadata": {
        "id": "cR_vCBWyzfYk"
      },
      "execution_count": 3,
      "outputs": []
    },
    {
      "cell_type": "code",
      "execution_count": 4,
      "metadata": {
        "id": "ebnZxTqLqvE8"
      },
      "outputs": [],
      "source": [
        "def toBinary(number, bits):\n",
        "  parteEntera = number // 1\n",
        "  parteDecimal = number - parteEntera\n",
        "\n",
        "  binaryE = toBinaryE(parteEntera)\n",
        "  binaryD = toBinaryD(parteDecimal, bits)\n",
        "  binary = binaryE + \".\" + binaryD\n",
        "\n",
        "  return binary\n"
      ]
    },
    {
      "cell_type": "code",
      "source": [
        "def toDecimalD(binaryD):\n",
        "  decimalD = 0\n",
        "\n",
        "  j = -1\n",
        "  for i in range(0,len(binaryD)):\n",
        "    decimalD += int(binaryD[i]) * (2 ** j)\n",
        "    j -= 1\n",
        "\n",
        "  return decimalD"
      ],
      "metadata": {
        "id": "pYMG4szHI2QY"
      },
      "execution_count": 5,
      "outputs": []
    },
    {
      "cell_type": "code",
      "source": [
        "def toDecimalE(binaryE):\n",
        "  decimalE = 0\n",
        "\n",
        "  j = len(binaryE) - 1\n",
        "  for i in range(0, len(binaryE)):\n",
        "    decimalE += int(binaryE[i]) * (2 ** j)\n",
        "    j -= 1\n",
        "\n",
        "  return decimalE"
      ],
      "metadata": {
        "id": "yUhzfr7IHnzS"
      },
      "execution_count": 6,
      "outputs": []
    },
    {
      "cell_type": "code",
      "source": [
        "def toDecimal(binary):\n",
        "  binary = binary.split(\".\")\n",
        "  binaryE = binary[0]\n",
        "  binaryD = binary[1]\n",
        "\n",
        "  decimalE = toDecimalE(binaryE)\n",
        "  decimalD = toDecimalD(binaryD)\n",
        "\n",
        "  decimal = decimalE + decimalD\n",
        "\n",
        "  return decimal\n"
      ],
      "metadata": {
        "id": "KZS7nKPkEvqc"
      },
      "execution_count": 7,
      "outputs": []
    },
    {
      "cell_type": "code",
      "source": [
        "binary = str(toBinary(8.05, 32))\n",
        "decimal = toDecimal(binary)\n",
        "\n",
        "print(binary)\n",
        "print(decimal)"
      ],
      "metadata": {
        "colab": {
          "base_uri": "https://localhost:8080/"
        },
        "id": "eEG76kdI0sdb",
        "outputId": "0270f3e2-442a-41f6-9fca-821aafd0dd52"
      },
      "execution_count": 10,
      "outputs": [
        {
          "output_type": "stream",
          "name": "stdout",
          "text": [
            "1000.00001100110011001100110011001100\n",
            "8.049999999813735\n"
          ]
        }
      ]
    }
  ]
}